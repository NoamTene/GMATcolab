{
  "nbformat": 4,
  "nbformat_minor": 0,
  "metadata": {
    "kernelspec": {
      "display_name": "Python 3",
      "language": "python",
      "name": "python3"
    },
    "language_info": {
      "codemirror_mode": {
        "name": "ipython",
        "version": 3
      },
      "file_extension": ".py",
      "mimetype": "text/x-python",
      "name": "python",
      "nbconvert_exporter": "python",
      "pygments_lexer": "ipython3",
      "version": "3.7.4"
    },
    "colab": {
      "provenance": [],
      "toc_visible": true,
      "include_colab_link": true
    }
  },
  "cells": [
    {
      "cell_type": "markdown",
      "metadata": {
        "id": "view-in-github",
        "colab_type": "text"
      },
      "source": [
        "<a href=\"https://colab.research.google.com/github/NoamTene/GMATcolab/blob/main/L1Station_GMAT.ipynb\" target=\"_parent\"><img src=\"https://colab.research.google.com/assets/colab-badge.svg\" alt=\"Open In Colab\"/></a>"
      ]
    },
    {
      "cell_type": "markdown",
      "metadata": {
        "id": "m_V9UEUOXgXh"
      },
      "source": [
        "# Propagation with the GMAT API\n",
        "This document walks you through the configuration and use of the GMAT API for propagation.\n",
        "\n",
        "## Prepare the GMAT Environment\n",
        "Before the API can be used, it needs to be loaded into the Python system and initialized using a GMAT startup file. This can be done from the GMAT bin folder by importing the gmatpy module, but using that approach tends to leave files in the bin folder that may annoy other users. Running from an outside folder takes a few steps, which have been captured in the load_gmat.py file in the GMAT api folder. After preparing the API for use (see the API \"read me\" file, api/API_README.txt), copy load_gmat.py into the folder you are using for Jupyter notebooks. Then import it:"
      ]
    },
    {
      "cell_type": "code",
      "metadata": {
        "id": "6obbBg2FXsn6",
        "colab": {
          "base_uri": "https://localhost:8080/"
        },
        "outputId": "9a647a47-11fc-4afa-f7db-e77a76c5fc19"
      },
      "source": [
        "!wget https://yer.dl.sourceforge.net/project/gmat/GMAT/GMAT-R2022a/gmat-ubuntu-x64-R2022a.tar.gz\n",
        "!tar -xf gmat-ubuntu-x64-R2022a.tar.gz\n",
        "!python \"GMAT/R2022a/api/BuildApiStartupFile.py\"\n",
        "!sed -i 's/<TopLevelGMATFolder>/\\/content\\/GMAT\\/R2022a/' GMAT/R2022a/api/load_gmat.py\n",
        "%cd GMAT/R2022a/api"
      ],
      "execution_count": null,
      "outputs": [
        {
          "output_type": "stream",
          "name": "stdout",
          "text": [
            "--2023-08-27 00:28:32--  https://yer.dl.sourceforge.net/project/gmat/GMAT/GMAT-R2022a/gmat-ubuntu-x64-R2022a.tar.gz\n",
            "Resolving yer.dl.sourceforge.net (yer.dl.sourceforge.net)... 94.20.154.18, 2a01:6480:20::5\n",
            "Connecting to yer.dl.sourceforge.net (yer.dl.sourceforge.net)|94.20.154.18|:443... connected.\n",
            "HTTP request sent, awaiting response... 200 OK\n",
            "Length: 390518023 (372M) [application/x-gzip]\n",
            "Saving to: ‘gmat-ubuntu-x64-R2022a.tar.gz.1’\n",
            "\n",
            "gmat-ubuntu-x64-R20 100%[===================>] 372.43M  13.7MB/s    in 29s     \n",
            "\n",
            "2023-08-27 00:29:02 (12.7 MB/s) - ‘gmat-ubuntu-x64-R2022a.tar.gz.1’ saved [390518023/390518023]\n",
            "\n",
            "/content/GMAT/R2022a/api\n"
          ]
        }
      ]
    },
    {
      "cell_type": "code",
      "metadata": {
        "id": "AHOkHKA9XgXl"
      },
      "source": [
        "from load_gmat import *\n",
        "import matplotlib.pyplot as plt"
      ],
      "execution_count": null,
      "outputs": []
    },
    {
      "cell_type": "markdown",
      "metadata": {
        "id": "4HMKQ_jDXgXn"
      },
      "source": [
        "## Configure a Spacecraft\n",
        "We'll need a spacecraft to propagate.  The following lines provide a basic Spacecraft configuration:"
      ]
    },
    {
      "cell_type": "code",
      "metadata": {
        "id": "F88kHFm4cDtW"
      },
      "source": [
        "EML1 = gmat.Construct(\"LibrationPoint\",\"EML1\")\n",
        "EML1.SetField(\"OrbitColor\",\"GreenYellow\");\n",
        "EML1.SetField(\"TargetColor\",\"DarkGray\");\n",
        "EML1.SetField(\"Primary\",\"Earth\");\n",
        "EML1.SetField(\"Secondary\",\"Luna\");\n",
        "EML1.SetField(\"Point\",\"L1\");"
      ],
      "execution_count": null,
      "outputs": []
    },
    {
      "cell_type": "code",
      "metadata": {
        "id": "7Xa8KNpFaPUW",
        "colab": {
          "base_uri": "https://localhost:8080/"
        },
        "outputId": "47342b88-2dc6-417b-ac0a-31e31925d2e4"
      },
      "source": [
        "EM_L1S = gmat.Construct(\"Spacecraft\",\"EM_L1S\")\n",
        "EM_L1S.SetField(\"DateFormat\", \"UTCGregorian\")\n",
        "EM_L1S.SetField(\"Epoch\", \"01 Jan 2025 00:00:00.000\")\n",
        "EM_L1S.SetField(\"CoordinateSystem\", \"EarthMoonL1CS\")\n",
        "EM_L1S.SetField(\"DisplayStateType\", \"Cartesian\")\n",
        "EM_L1S.SetField(\"X\", 0)\n",
        "EM_L1S.SetField(\"Y\", 0)\n",
        "EM_L1S.SetField(\"Z\", 0)\n",
        "EM_L1S.SetField(\"VX\", 0)\n",
        "EM_L1S.SetField(\"VY\", 0)\n",
        "EM_L1S.SetField(\"VZ\", 0)\n",
        "print(EM_L1S.GetGeneratingString(0))\n"
      ],
      "execution_count": null,
      "outputs": [
        {
          "output_type": "stream",
          "name": "stdout",
          "text": [
            "Create Spacecraft EM_L1S;\n",
            "GMAT EM_L1S.DateFormat = UTCGregorian;\n",
            "GMAT EM_L1S.Epoch = '01 Jan 2025 00:00:00.000';\n",
            "GMAT EM_L1S.CoordinateSystem = EarthMoonL1CS;\n",
            "GMAT EM_L1S.DisplayStateType = Cartesian;\n",
            "GMAT EM_L1S.X = 0;\n",
            "GMAT EM_L1S.Y = 0;\n",
            "GMAT EM_L1S.Z = 0;\n",
            "GMAT EM_L1S.VX = 0;\n",
            "GMAT EM_L1S.VY = 0;\n",
            "GMAT EM_L1S.VZ = 0;\n",
            "GMAT EM_L1S.DryMass = 850;\n",
            "GMAT EM_L1S.Cd = 2.2;\n",
            "GMAT EM_L1S.Cr = 1.8;\n",
            "GMAT EM_L1S.DragArea = 15;\n",
            "GMAT EM_L1S.SRPArea = 1;\n",
            "GMAT EM_L1S.SPADDragScaleFactor = 1;\n",
            "GMAT EM_L1S.SPADSRPScaleFactor = 1;\n",
            "GMAT EM_L1S.AtmosDensityScaleFactor = 1;\n",
            "GMAT EM_L1S.ExtendedMassPropertiesModel = 'None';\n",
            "GMAT EM_L1S.NAIFId = -10000001;\n",
            "GMAT EM_L1S.NAIFIdReferenceFrame = -9000001;\n",
            "GMAT EM_L1S.OrbitColor = Red;\n",
            "GMAT EM_L1S.TargetColor = Teal;\n",
            "GMAT EM_L1S.OrbitErrorCovariance = [ 1e+70 0 0 0 0 0 ; 0 1e+70 0 0 0 0 ; 0 0 1e+70 0 0 0 ; 0 0 0 1e+70 0 0 ; 0 0 0 0 1e+70 0 ; 0 0 0 0 0 1e+70 ];\n",
            "GMAT EM_L1S.CdSigma = 1e+70;\n",
            "GMAT EM_L1S.CrSigma = 1e+70;\n",
            "GMAT EM_L1S.Id = 'SatId';\n",
            "GMAT EM_L1S.Attitude = CoordinateSystemFixed;\n",
            "GMAT EM_L1S.SPADSRPInterpolationMethod = Bilinear;\n",
            "GMAT EM_L1S.SPADSRPScaleFactorSigma = 1e+70;\n",
            "GMAT EM_L1S.SPADDragInterpolationMethod = Bilinear;\n",
            "GMAT EM_L1S.SPADDragScaleFactorSigma = 1e+70;\n",
            "GMAT EM_L1S.AtmosDensityScaleFactorSigma = 1e+70;\n",
            "GMAT EM_L1S.ModelFile = 'aura.3ds';\n",
            "GMAT EM_L1S.ModelOffsetX = 0;\n",
            "GMAT EM_L1S.ModelOffsetY = 0;\n",
            "GMAT EM_L1S.ModelOffsetZ = 0;\n",
            "GMAT EM_L1S.ModelRotationX = 0;\n",
            "GMAT EM_L1S.ModelRotationY = 0;\n",
            "GMAT EM_L1S.ModelRotationZ = 0;\n",
            "GMAT EM_L1S.ModelScale = 1;\n",
            "GMAT EM_L1S.AttitudeDisplayStateType = 'Quaternion';\n",
            "GMAT EM_L1S.AttitudeRateDisplayStateType = 'AngularVelocity';\n",
            "GMAT EM_L1S.AttitudeCoordinateSystem = EarthMJ2000Eq;\n",
            "GMAT EM_L1S.EulerAngleSequence = '321';\n",
            "\n"
          ]
        }
      ]
    },
    {
      "cell_type": "code",
      "metadata": {
        "id": "aUj4U77KXgXo"
      },
      "source": [
        "#sat = gmat.Construct(\"Spacecraft\",\"LeoSat\")\n",
        "#sat.SetField(\"DryMass\", 50)\n",
        "#sat.SetField(\"Cd\", 2.2)\n",
        "#sat.SetField(\"Cr\", 1.8)\n",
        "#sat.SetField(\"DragArea\", 1.5)\n",
        "#sat.SetField(\"SRPArea\", 1.2)"
      ],
      "execution_count": null,
      "outputs": []
    },
    {
      "cell_type": "markdown",
      "metadata": {
        "id": "EOc7Iv0yXgXo"
      },
      "source": [
        "## Configure the Forces\n",
        "Next we'll set up a force model.  For this example, we'll use an Earth 8x8 potential model, with Sun and Moon point masses and Jacchia-Roberts drag.  In GMAT, forces are collected in the ODEModel class.  That class is scripted as a \"ForceModel\" in the script language.  The API accepts either.  The force model is built and its (empty) contents displayed using"
      ]
    },
    {
      "cell_type": "code",
      "metadata": {
        "id": "L_joJyGsXgXp",
        "colab": {
          "base_uri": "https://localhost:8080/",
          "height": 313
        },
        "outputId": "1e2ef508-e626-4520-e676-774c2d792691"
      },
      "source": [
        "fm = gmat.Construct(\"ForceModel\", \"FM\")\n",
        "\n",
        "earthgrav = gmat.Construct(\"GravityField\")\n",
        "earthgrav.SetField(\"BodyName\",\"Earth\")\n",
        "earthgrav.SetField(\"Degree\",4)\n",
        "earthgrav.SetField(\"Order\",4)\n",
        "earthgrav.SetField(\"PotentialFile\",\"JGM2.cof\")\n",
        "fm.AddForce(earthgrav)\n",
        "\n",
        "moongrav = gmat.Construct(\"PointMassForce\")\n",
        "moongrav.SetField(\"BodyName\",\"Luna\")\n",
        "fm.AddForce(moongrav)\n",
        "\n",
        "sungrav = gmat.Construct(\"PointMassForce\")\n",
        "sungrav.SetField(\"BodyName\",\"Sun\")\n",
        "fm.AddForce(sungrav)\n",
        "\n",
        "# Drag using Jacchia-Roberts\n",
        "#jrdrag = gmat.Construct(\"DragForce\")\n",
        "#jrdrag.SetField(\"AtmosphereModel\",\"JacchiaRoberts\")\n",
        "#atmos = gmat.Construct(\"JacchiaRoberts\")\n",
        "#jrdrag.SetReference(atmos)\n",
        "#fm.AddForce(jrdrag)\n",
        "\n",
        "fm.Help()"
      ],
      "execution_count": null,
      "outputs": [
        {
          "output_type": "stream",
          "name": "stdout",
          "text": [
            "\n",
            "ForceModel  FM\n",
            "\n",
            "   Field                                   Type   Value\n",
            "   --------------------------------------------------------\n",
            "\n",
            "   CentralBody                           Object   Earth\n",
            "   PrimaryBodies                    ObjectArray   {Earth}\n",
            "   PolyhedralBodies                 ObjectArray   {}\n",
            "   PointMasses                      ObjectArray   {Luna, Sun}\n",
            "   Drag                                  Object   None\n",
            "   SRP                                    OnOff   Off\n",
            "   RelativisticCorrection                 OnOff   Off\n",
            "   ErrorControl                            List   RSSStep\n",
            "   UserDefined                      ObjectArray   {}\n",
            "\n"
          ]
        },
        {
          "output_type": "execute_result",
          "data": {
            "text/plain": [
              "''"
            ],
            "application/vnd.google.colaboratory.intrinsic+json": {
              "type": "string"
            }
          },
          "metadata": {},
          "execution_count": 6
        }
      ]
    },
    {
      "cell_type": "markdown",
      "metadata": {
        "id": "l0FiaQnTXgXr"
      },
      "source": [
        "In GMAT, the force model scripting shows the settings for each force.  In the API, you can examine the settings for the individual forces:"
      ]
    },
    {
      "cell_type": "markdown",
      "metadata": {
        "id": "M3zUe638XgXs"
      },
      "source": [
        "or, with a little work, the GMAT scripting for the complete force model:"
      ]
    },
    {
      "cell_type": "code",
      "metadata": {
        "id": "qsYNm2ZRXgXs",
        "colab": {
          "base_uri": "https://localhost:8080/"
        },
        "outputId": "c91ce36d-1c2b-40d5-9ccd-6fcbb9a64cfc"
      },
      "source": [
        "print(fm.GetGeneratingString(0))"
      ],
      "execution_count": null,
      "outputs": [
        {
          "output_type": "stream",
          "name": "stdout",
          "text": [
            "Create ForceModel FM;\n",
            "GMAT FM.CentralBody = Earth;\n",
            "GMAT FM.PrimaryBodies = {Earth};\n",
            "GMAT FM.PointMasses = {Luna, Sun};\n",
            "GMAT FM.Drag = None;\n",
            "GMAT FM.SRP = Off;\n",
            "GMAT FM.RelativisticCorrection = Off;\n",
            "GMAT FM.ErrorControl = RSSStep;\n",
            "GMAT FM.GravityField.Earth.Degree = 4;\n",
            "GMAT FM.GravityField.Earth.Order = 4;\n",
            "GMAT FM.GravityField.Earth.StmLimit = 100;\n",
            "GMAT FM.GravityField.Earth.PotentialFile = 'JGM2.cof';\n",
            "GMAT FM.GravityField.Earth.TideModel = 'None';\n",
            "\n"
          ]
        }
      ]
    },
    {
      "cell_type": "markdown",
      "metadata": {
        "id": "wIJyofqnXgXt"
      },
      "source": [
        "## Configure the Integrator\n",
        "Finally, in order to propagate, we need an integrator.  For this example, we'll use a Prince-Dormand 7(8) Runge-Kutta integrator.  The propagator is set using the code"
      ]
    },
    {
      "cell_type": "code",
      "metadata": {
        "id": "b30BtHQCXgXt"
      },
      "source": [
        "pdprop = gmat.Construct(\"Propagator\",\"PDProp\")\n",
        "gator = gmat.Construct(\"PrinceDormand78\", \"Gator\")\n",
        "pdprop.SetReference(gator)\n",
        "pdprop.SetField(\"InitialStepSize\", 60.0)\n",
        "pdprop.SetField(\"Accuracy\", 1.0e-13)\n",
        "pdprop.SetField(\"MinStep\", 0.0)\n",
        "pdprop.SetReference(fm);"
      ],
      "execution_count": null,
      "outputs": []
    },
    {
      "cell_type": "markdown",
      "metadata": {
        "id": "_SK2kWRuXgXu"
      },
      "source": [
        "It also need to know the object that is propagated.  For this example, that is the spacecraft constructed above:"
      ]
    },
    {
      "cell_type": "code",
      "metadata": {
        "id": "-sXeSb08XgXv",
        "colab": {
          "base_uri": "https://localhost:8080/"
        },
        "outputId": "e606b446-e024-4280-fc91-190d1072079e"
      },
      "source": [
        "pdprop.AddPropObject(EM_L1S)\n",
        "print(pdprop.GetGeneratingString(0)"
      ],
      "execution_count": null,
      "outputs": [
        {
          "output_type": "stream",
          "name": "stdout",
          "text": [
            "Create ForceModel FM;\n",
            "GMAT FM.CentralBody = Earth;\n",
            "GMAT FM.PrimaryBodies = {Earth};\n",
            "GMAT FM.PointMasses = {Luna, Sun};\n",
            "GMAT FM.Drag = None;\n",
            "GMAT FM.SRP = Off;\n",
            "GMAT FM.RelativisticCorrection = Off;\n",
            "GMAT FM.ErrorControl = RSSStep;\n",
            "GMAT FM.GravityField.Earth.Degree = 4;\n",
            "GMAT FM.GravityField.Earth.Order = 4;\n",
            "GMAT FM.GravityField.Earth.StmLimit = 100;\n",
            "GMAT FM.GravityField.Earth.PotentialFile = 'JGM2.cof';\n",
            "GMAT FM.GravityField.Earth.TideModel = 'None';\n",
            "\n",
            "Create Propagator PDProp;\n",
            "GMAT PDProp.FM = FM;\n",
            "GMAT PDProp.Type = PrinceDormand78;\n",
            "GMAT PDProp.InitialStepSize = 60;\n",
            "GMAT PDProp.Accuracy = 1e-13;\n",
            "GMAT PDProp.MinStep = 0;\n",
            "GMAT PDProp.MaxStep = 2700;\n",
            "GMAT PDProp.MaxStepAttempts = 50;\n",
            "GMAT PDProp.StopIfAccuracyIsViolated = true;\n",
            "\n"
          ]
        }
      ]
    },
    {
      "cell_type": "markdown",
      "metadata": {
        "id": "UXTLwCOaXgXv"
      },
      "source": [
        "## Initialize the System and Propagate a Step\n",
        "Finally, the system can be initialized and fired to see a single propagation step.  Some of the code displayed here will be folded into the API's Initialize() function.  For now, the steps needed to initialize the system for a propagation step are:"
      ]
    },
    {
      "cell_type": "markdown",
      "source": [
        "# New Section"
      ],
      "metadata": {
        "id": "e83w7sk3YRh-"
      }
    },
    {
      "cell_type": "code",
      "metadata": {
        "id": "vHGCBuUCXgXv"
      },
      "source": [
        "# Perform top level initialization\n",
        "gmat.Initialize()\n",
        "# Perform the integation subsysem initialization\n",
        "pdprop.PrepareInternals()\n",
        "\n",
        "# Refresh the integrator reference\n",
        "gator = pdprop.GetPropagator()"
      ],
      "execution_count": null,
      "outputs": []
    },
    {
      "cell_type": "markdown",
      "metadata": {
        "id": "XQINk2LEXgXw"
      },
      "source": [
        "and we can then propagate, and start accumulating the data"
      ]
    },
    {
      "cell_type": "code",
      "metadata": {
        "id": "pGcVgKQIXgXw",
        "colab": {
          "base_uri": "https://localhost:8080/",
          "height": 419
        },
        "outputId": "07ad049d-80a1-4c45-e720-b253bf9add16"
      },
      "source": [
        "# Take a 60 second step, showing the state before and after, and start buffering\n",
        "# Buffers for the data\n",
        "time = []\n",
        "pos = []\n",
        "vel = []\n",
        "\n",
        "gatorstate = gator.GetState()\n",
        "t = 0.0\n",
        "r = []\n",
        "v = []\n",
        "for j in range(3):\n",
        "    r.append(gatorstate[j])\n",
        "    v.append(gatorstate[j+3])\n",
        "time.append(t)\n",
        "pos.append(r)\n",
        "vel.append(v)\n",
        "\n",
        "print(\"Starting state:\\n\", t, r, v)\n",
        "\n",
        "# Take a step and buffer it\n",
        "gator.Step(60.0)\n",
        "gatorstate = gator.GetState()\n",
        "t = t + 60.0\n",
        "r = []\n",
        "v = []\n",
        "for j in range(3):\n",
        "    r.append(gatorstate[j])\n",
        "    v.append(gatorstate[j+3])\n",
        "time.append(t)\n",
        "pos.append(r)\n",
        "vel.append(v)\n",
        "\n",
        "print(\"Propped state:\\n\", t, r, v)"
      ],
      "execution_count": null,
      "outputs": [
        {
          "output_type": "stream",
          "name": "stdout",
          "text": [
            "Starting state:\n",
            " 0.0 [0.0, 0.0, 0.0] [0.0, 0.0, 0.0]\n"
          ]
        },
        {
          "output_type": "error",
          "ename": "APIException",
          "evalue": "ignored",
          "traceback": [
            "\u001b[0;31m---------------------------------------------------------------------------\u001b[0m",
            "\u001b[0;31mAPIException\u001b[0m                              Traceback (most recent call last)",
            "\u001b[0;32m<ipython-input-11-960251d68e7f>\u001b[0m in \u001b[0;36m<cell line: 21>\u001b[0;34m()\u001b[0m\n\u001b[1;32m     19\u001b[0m \u001b[0;34m\u001b[0m\u001b[0m\n\u001b[1;32m     20\u001b[0m \u001b[0;31m# Take a step and buffer it\u001b[0m\u001b[0;34m\u001b[0m\u001b[0;34m\u001b[0m\u001b[0m\n\u001b[0;32m---> 21\u001b[0;31m \u001b[0mgator\u001b[0m\u001b[0;34m.\u001b[0m\u001b[0mStep\u001b[0m\u001b[0;34m(\u001b[0m\u001b[0;36m60.0\u001b[0m\u001b[0;34m)\u001b[0m\u001b[0;34m\u001b[0m\u001b[0;34m\u001b[0m\u001b[0m\n\u001b[0m\u001b[1;32m     22\u001b[0m \u001b[0mgatorstate\u001b[0m \u001b[0;34m=\u001b[0m \u001b[0mgator\u001b[0m\u001b[0;34m.\u001b[0m\u001b[0mGetState\u001b[0m\u001b[0;34m(\u001b[0m\u001b[0;34m)\u001b[0m\u001b[0;34m\u001b[0m\u001b[0;34m\u001b[0m\u001b[0m\n\u001b[1;32m     23\u001b[0m \u001b[0mt\u001b[0m \u001b[0;34m=\u001b[0m \u001b[0mt\u001b[0m \u001b[0;34m+\u001b[0m \u001b[0;36m60.0\u001b[0m\u001b[0;34m\u001b[0m\u001b[0;34m\u001b[0m\u001b[0m\n",
            "\u001b[0;32m/content/GMAT/R2022a/bin/gmatpy/_py310/gmat_py.py\u001b[0m in \u001b[0;36mStep\u001b[0;34m(self, *args)\u001b[0m\n\u001b[1;32m  20331\u001b[0m         \u001b[0mthe\u001b[0m \u001b[0mnext\u001b[0m \u001b[0mcall\u001b[0m\u001b[0;34m.\u001b[0m\u001b[0;34m\u001b[0m\u001b[0;34m\u001b[0m\u001b[0m\n\u001b[1;32m  20332\u001b[0m         \"\"\"\n\u001b[0;32m> 20333\u001b[0;31m         \u001b[0;32mreturn\u001b[0m \u001b[0m_gmat_py\u001b[0m\u001b[0;34m.\u001b[0m\u001b[0mPropagator_Step\u001b[0m\u001b[0;34m(\u001b[0m\u001b[0mself\u001b[0m\u001b[0;34m,\u001b[0m \u001b[0;34m*\u001b[0m\u001b[0margs\u001b[0m\u001b[0;34m)\u001b[0m\u001b[0;34m\u001b[0m\u001b[0;34m\u001b[0m\u001b[0m\n\u001b[0m\u001b[1;32m  20334\u001b[0m \u001b[0;34m\u001b[0m\u001b[0m\n\u001b[1;32m  20335\u001b[0m     \u001b[0;32mdef\u001b[0m \u001b[0mGetStepTaken\u001b[0m\u001b[0;34m(\u001b[0m\u001b[0mself\u001b[0m\u001b[0;34m)\u001b[0m\u001b[0;34m:\u001b[0m\u001b[0;34m\u001b[0m\u001b[0;34m\u001b[0m\u001b[0m\n",
            "\u001b[0;31mAPIException\u001b[0m: ODEModel Exception Thrown: The ForceModel FM generated a derivative that is not a number"
          ]
        }
      ]
    },
    {
      "cell_type": "markdown",
      "metadata": {
        "id": "cJm2_PksXgXw"
      },
      "source": [
        "Finally, we can run for a few orbits and show the results"
      ]
    },
    {
      "cell_type": "code",
      "metadata": {
        "scrolled": false,
        "id": "y4vGr5ExXgXy"
      },
      "source": [
        "for i in range(360):\n",
        "    # Take a step and buffer it\n",
        "    gator.Step(60.0)\n",
        "    gatorstate = gator.GetState()\n",
        "    t = t + 60.0\n",
        "    r = []\n",
        "    v = []\n",
        "    for j in range(3):\n",
        "        r.append(gatorstate[j])\n",
        "        v.append(gatorstate[j+3])\n",
        "    time.append(t)\n",
        "    pos.append(r)\n",
        "    vel.append(v)\n",
        "\n",
        "plt.rcParams['figure.figsize'] = (15, 5)\n",
        "positions = plt.plot(time, pos)"
      ],
      "execution_count": null,
      "outputs": []
    },
    {
      "cell_type": "markdown",
      "metadata": {
        "id": "O6WUPfkhXgXy"
      },
      "source": [
        "The velocities can also be plotted:"
      ]
    },
    {
      "cell_type": "code",
      "metadata": {
        "id": "vcoq2TBhXgXy"
      },
      "source": [
        "velocities = plt.plot(time, vel)"
      ],
      "execution_count": null,
      "outputs": []
    },
    {
      "cell_type": "code",
      "metadata": {
        "id": "MvONK3X-XgXz"
      },
      "source": [],
      "execution_count": null,
      "outputs": []
    }
  ]
}